{
 "cells": [
  {
   "cell_type": "code",
   "execution_count": 21,
   "id": "e1039066-968c-40ee-b167-8d29d471b203",
   "metadata": {},
   "outputs": [
    {
     "name": "stdout",
     "output_type": "stream",
     "text": [
      "hii1\n",
      "hello\n"
     ]
    }
   ],
   "source": [
    "print('hii1')\n",
    "print('hello')"
   ]
  },
  {
   "cell_type": "code",
   "execution_count": 23,
   "id": "137d9758-5f6c-4826-a5dd-727f73b36647",
   "metadata": {},
   "outputs": [
    {
     "name": "stderr",
     "output_type": "stream",
     "text": [
      "warning: in the working copy of 'Untitled.ipynb', LF will be replaced by CRLF the next time Git touches it\n"
     ]
    }
   ],
   "source": [
    "!git add ."
   ]
  },
  {
   "cell_type": "code",
   "execution_count": 27,
   "id": "0403da01-2b96-436e-ab64-890d39114597",
   "metadata": {},
   "outputs": [
    {
     "name": "stdout",
     "output_type": "stream",
     "text": [
      "[main 300bc02] 'changed_readme'\n",
      " 3 files changed, 66 insertions(+), 5 deletions(-)\n"
     ]
    }
   ],
   "source": [
    "!git commit -m 'changed_readme'"
   ]
  },
  {
   "cell_type": "code",
   "execution_count": 29,
   "id": "ecc61650-0f5b-49bb-9dbb-9701b655d566",
   "metadata": {},
   "outputs": [
    {
     "name": "stdout",
     "output_type": "stream",
     "text": [
      "On branch main\n",
      "Your branch is ahead of 'origin/main' by 1 commit.\n",
      "  (use \"git push\" to publish your local commits)\n",
      "\n",
      "nothing to commit, working tree clean\n"
     ]
    }
   ],
   "source": [
    "!git status"
   ]
  },
  {
   "cell_type": "code",
   "execution_count": 31,
   "id": "7f258f70-ea2f-459d-b549-b89132c70d78",
   "metadata": {},
   "outputs": [
    {
     "name": "stderr",
     "output_type": "stream",
     "text": [
      "To https://github.com/papumaharana/demo.git\n",
      "   f2a50d4..300bc02  main -> main\n"
     ]
    }
   ],
   "source": [
    "!git push"
   ]
  },
  {
   "cell_type": "code",
   "execution_count": null,
   "id": "f83165aa-1152-4f80-8fca-3da90b93308c",
   "metadata": {},
   "outputs": [],
   "source": []
  }
 ],
 "metadata": {
  "kernelspec": {
   "display_name": "Python 3 (ipykernel)",
   "language": "python",
   "name": "python3"
  },
  "language_info": {
   "codemirror_mode": {
    "name": "ipython",
    "version": 3
   },
   "file_extension": ".py",
   "mimetype": "text/x-python",
   "name": "python",
   "nbconvert_exporter": "python",
   "pygments_lexer": "ipython3",
   "version": "3.12.4"
  }
 },
 "nbformat": 4,
 "nbformat_minor": 5
}
